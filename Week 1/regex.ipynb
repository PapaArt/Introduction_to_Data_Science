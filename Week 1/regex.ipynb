{
 "metadata": {
  "language_info": {
   "codemirror_mode": {
    "name": "ipython",
    "version": 3
   },
   "file_extension": ".py",
   "mimetype": "text/x-python",
   "name": "python",
   "nbconvert_exporter": "python",
   "pygments_lexer": "ipython3",
   "version": "3.7.6-final"
  },
  "orig_nbformat": 2,
  "kernelspec": {
   "name": "python3",
   "display_name": "Python 3",
   "language": "python"
  }
 },
 "nbformat": 4,
 "nbformat_minor": 2,
 "cells": [
  {
   "source": [
    "In this lecture we're going to talk about pattern matching in strings using regular expressions. Regular\n",
    "expressions, or regexes, are written in a condensed formatting language. In general, you can think of a\n",
    "regular expression as a pattern which you give to a regex processor with some source data. The processor then\n",
    "parses that source data using that pattern, and returns chunks of text back to the a data scientist or \n",
    "programmer for further manipulation. There's really three main reasons you would want to do this - to check\n",
    "whether a pattern exists within some source data, to get all instances of a complex pattern from some source\n",
    "data, or to clean your source data using a pattern generally through string splitting. Regexes are not\n",
    "trivial, but they are a foundational technique for data cleaning in data science applications, and a solid\n",
    "understanding of regexs will help you quickly and efficiently manipulate text data for further data science\n",
    "application.\n",
    "\n",
    "Now, you could teach a whole course on regular expressions alone, especially if you wanted to demystify how\n",
    "the regex parsing engine works and efficient mechanisms for parsing text. In this lecture I want to give you\n",
    "basic understanding of how regex works - enough knowledge that, with a little directed sleuthing, you'll be\n",
    "able to make sense of the regex patterns you see others use, and you can build up your practical knowledge of\n",
    "how to use regexes to improve your data cleaning. By the end of this lecture, you will understand the basics\n",
    "of regular expressions, how to define patterns for matching, how to apply these patterns to strings, and how\n",
    "to use the results of those patterns in data processing.\n",
    "\n",
    "Finally, a note that in order to best learn regexes you need to write regexes. I encourage you to stop the\n",
    "video at any time and try out new patterns or syntax you learn at any time."
   ],
   "cell_type": "markdown",
   "metadata": {}
  },
  {
   "cell_type": "code",
   "execution_count": 43,
   "metadata": {},
   "outputs": [],
   "source": [
    "# First we'll import the re module, which is where python stores regular expression libraries.\n",
    "import re"
   ]
  },
  {
   "cell_type": "code",
   "execution_count": 44,
   "metadata": {},
   "outputs": [
    {
     "output_type": "stream",
     "name": "stdout",
     "text": [
      "Wonderful!\n"
     ]
    }
   ],
   "source": [
    "# There are several main processing functions in re that you might use. The first, match() checks for a match\n",
    "# that is at the beginning of the string and returns a boolean. Similarly, search(), checks for a match\n",
    "# anywhere in the string, and returns a boolean.\n",
    "\n",
    "# Lets create some text for an example\n",
    "text = \"This is a good day.\"\n",
    "\n",
    "# Now, lets see if it's a good day or not:\n",
    "if re.search(\"good\", text):\n",
    "    print(\"Wonderful!\")\n",
    "else:\n",
    "    print(\"Alas :(\")"
   ]
  },
  {
   "cell_type": "code",
   "execution_count": 45,
   "metadata": {},
   "outputs": [
    {
     "output_type": "execute_result",
     "data": {
      "text/plain": [
       "['',\n",
       " ' works diligently. ',\n",
       " ' gets good grades. Our student ',\n",
       " ' is succesful.']"
      ]
     },
     "metadata": {},
     "execution_count": 45
    }
   ],
   "source": [
    "# In addition to checking for conditionals, we can segment a string. The work that regex does here is called\n",
    "# tokenizing, where the string is separated into substrings based on patterns. Tokenizing is a core activity\n",
    "# in natural language processing, which we won't talk much about here but that you will study in the future\n",
    "\n",
    "# The findall() and split() functions will parse the string for us and return chunks. Lets try and example\n",
    "text = \"Amy works diligently. Amy gets good grades. Our student Amy is succesful.\"\n",
    "\n",
    "# This is a bit of a fabricated example, but lets split this on all instances of Amy\n",
    "re.split(\"Amy\", text)"
   ]
  },
  {
   "cell_type": "code",
   "execution_count": 46,
   "metadata": {},
   "outputs": [
    {
     "output_type": "execute_result",
     "data": {
      "text/plain": [
       "['Amy', 'Amy', 'Amy']"
      ]
     },
     "metadata": {},
     "execution_count": 46
    }
   ],
   "source": [
    "# You'll notice that split has returned an empty string, followed by a number of statements about Amy, all as\n",
    "# elements of a list. If we wanted to count how many times we have talked about Amy, we could use findall()\n",
    "re.findall(\"Amy\", text)"
   ]
  },
  {
   "cell_type": "code",
   "execution_count": 47,
   "metadata": {},
   "outputs": [],
   "source": [
    "# Ok, so we've seen that .search() looks for some pattern and returns a boolean, that .split() will use a\n",
    "# pattern for creating a list of substrings, and that .findall() will look for a pattern and pull out all\n",
    "# occurences."
   ]
  },
  {
   "cell_type": "code",
   "execution_count": 48,
   "metadata": {},
   "outputs": [
    {
     "output_type": "execute_result",
     "data": {
      "text/plain": [
       "<re.Match object; span=(0, 3), match='Amy'>"
      ]
     },
     "metadata": {},
     "execution_count": 48
    }
   ],
   "source": [
    "# Now that we know how the python regex API works, lets talk about more complex patterns. The regex\n",
    "# specification standard defines a markup language to describe patterns in text. Lets start with anchors.\n",
    "# Anchors specify the start and/or the end of the string that you are trying to match. The caret character ^\n",
    "# means start and the dollar sign character $ means end. If you put ^ before a string, it means that the text\n",
    "# the regex processor retrieves must start with the string you specify. For ending, you have to put the $\n",
    "# character after the string, it means that the text Regex retrieves must end with the string you specify.\n",
    "\n",
    "# Here's an example\n",
    "text = \"Amy works diligently. Amy gets good grades. Our student Amy is succesful.\"\n",
    "\n",
    "# Lets see if this begins with Amy\n",
    "re.search(\"Amy\", text)"
   ]
  },
  {
   "cell_type": "code",
   "execution_count": 49,
   "metadata": {},
   "outputs": [],
   "source": [
    "# Notice that re.search() actually returned to us a new object, called re.Match object. An re.Match object\n",
    "# always has a boolean value of True, as something was found, so you can always evaluate it in an if statement\n",
    "# as we did earlier. The rendering of the match object also tells you what pattern was matched, in this case\n",
    "# the word Amy, and the location the match was in, as the span."
   ]
  },
  {
   "source": [
    "# Patterns and Character Classes"
   ],
   "cell_type": "markdown",
   "metadata": {}
  },
  {
   "cell_type": "code",
   "execution_count": 50,
   "metadata": {},
   "outputs": [
    {
     "output_type": "execute_result",
     "data": {
      "text/plain": [
       "['B', 'B', 'B']"
      ]
     },
     "metadata": {},
     "execution_count": 50
    }
   ],
   "source": [
    "# Let's talk more about patterns and start with character classes. Let's create a string of a single learners'\n",
    "# grades over a semester in one course across all of their assignments\n",
    "grades=\"ACAAAABCBCBAA\"\n",
    "\n",
    "# If we want to answer the question \"How many B's were in the grade list?\" we would just use B\n",
    "re.findall(\"B\", grades)"
   ]
  },
  {
   "cell_type": "code",
   "execution_count": 51,
   "metadata": {},
   "outputs": [
    {
     "output_type": "execute_result",
     "data": {
      "text/plain": [
       "['A', 'A', 'A', 'A', 'A', 'B', 'B', 'B', 'A', 'A']"
      ]
     },
     "metadata": {},
     "execution_count": 51
    }
   ],
   "source": [
    "# If we wanted to count the number of A's or B's in the list, we can't use \"AB\" since this is used to match\n",
    "# all A's followed immediately by a B. Instead, we put the characters A and B inside square brackets\n",
    "re.findall(\"[AB]\", grades)"
   ]
  },
  {
   "cell_type": "code",
   "execution_count": 52,
   "metadata": {},
   "outputs": [
    {
     "output_type": "execute_result",
     "data": {
      "text/plain": [
       "['AC', 'AB']"
      ]
     },
     "metadata": {},
     "execution_count": 52
    }
   ],
   "source": [
    "# Notice how the [AB] pattern describes a set of possible characters which could be either (A OR B), while the\n",
    "# [A][B-C] pattern denoted two sets of characters which must have been matched back to back. You can write\n",
    "# this pattern by using the pipe operator, which means OR\n",
    "re.findall(\"AB|AC\", grades)"
   ]
  },
  {
   "cell_type": "code",
   "execution_count": 53,
   "metadata": {},
   "outputs": [
    {
     "output_type": "execute_result",
     "data": {
      "text/plain": [
       "['C', 'B', 'C', 'B', 'C', 'B']"
      ]
     },
     "metadata": {},
     "execution_count": 53
    }
   ],
   "source": [
    "# We can use the caret with the set operator to negate our results. For instance, if we want to parse out only\n",
    "# the grades which were not A's\n",
    "re.findall(\"[^A]\", grades)"
   ]
  },
  {
   "cell_type": "code",
   "execution_count": 54,
   "metadata": {},
   "outputs": [
    {
     "output_type": "execute_result",
     "data": {
      "text/plain": [
       "[]"
      ]
     },
     "metadata": {},
     "execution_count": 54
    }
   ],
   "source": [
    "# Note this carefully - the caret was previously matched to the beginning of a string as an anchor point, but\n",
    "# inside of the set operator the caret, and the other special characters we will be talking about, lose their\n",
    "# meaning. This can be a bit confusing. What do you think the result would be of this?\n",
    "re.findall(\"^[^A]\", grades)"
   ]
  },
  {
   "cell_type": "code",
   "execution_count": 55,
   "metadata": {},
   "outputs": [],
   "source": [
    "# It's an empty list, because the regex says that we want to match any value at the beginning of the string\n",
    "# which is not an A. Our string though starts with an A, so there is no match found. And remember when you are\n",
    "# using the set operator you are doing character-based matching. So you are matching individual characters in\n",
    "# an OR method."
   ]
  },
  {
   "source": [
    "# Quantifiers"
   ],
   "cell_type": "markdown",
   "metadata": {}
  },
  {
   "cell_type": "code",
   "execution_count": 56,
   "metadata": {},
   "outputs": [],
   "source": [
    "# Ok, so we've talked about anchors and matching to the beginning and end of patterns. And we've talked about\n",
    "# characters and using sets with the [] notation. We've also talked about character negation, and how the pipe\n",
    "# | character allows us to or operations. Lets move on to quantifiers."
   ]
  },
  {
   "cell_type": "code",
   "execution_count": 57,
   "metadata": {},
   "outputs": [
    {
     "output_type": "execute_result",
     "data": {
      "text/plain": [
       "['AAAA', 'AA']"
      ]
     },
     "metadata": {},
     "execution_count": 57
    }
   ],
   "source": [
    "# Quantifiers are the number of times you want a pattern to be matched in order to match. The most basic\n",
    "# quantifier is expressed as e{m,n}, where e is the expression or character we are matching, m is the minimum\n",
    "# number of times you want it to matched, and n is the maximum number of times the item could be matched.\n",
    "\n",
    "# Let's use these grades as an example. How many times has this student been on a back-to-back A's streak?\n",
    "re.findall(\"A{2,10}\", grades)"
   ]
  },
  {
   "cell_type": "code",
   "execution_count": 58,
   "metadata": {},
   "outputs": [
    {
     "output_type": "execute_result",
     "data": {
      "text/plain": [
       "['AA', 'AA', 'AA']"
      ]
     },
     "metadata": {},
     "execution_count": 58
    }
   ],
   "source": [
    "# So we see that there were two streaks, one where the student had four A's, and one where they had only two\n",
    "# A's\n",
    "\n",
    "# We might try and do this using single values and just repeating the pattern\n",
    "re.findall(\"A{1,1}A{1,1}\", grades)"
   ]
  },
  {
   "cell_type": "code",
   "execution_count": 59,
   "metadata": {},
   "outputs": [
    {
     "output_type": "execute_result",
     "data": {
      "text/plain": [
       "[]"
      ]
     },
     "metadata": {},
     "execution_count": 59
    }
   ],
   "source": [
    "# As you can see, this is different than the first example. The first pattern is looking for any combination\n",
    "# of two A's up to ten A's in a row. So it sees four A's as a single streak. The second pattern is looking for\n",
    "# two A's back to back, so it sees two A's followed immediately by two more A's. We say that the regex\n",
    "# processor begins at the start of the string and consumes variables which match patterns as it does.\n",
    "\n",
    "# It's important to note that the regex quantifier syntax does not allow you to deviate from the {m,n}\n",
    "# pattern. In particular, if you have an extra space in between the braces you'll get an empty result\n",
    "re.findall(\"A{2, 10}\", grades)"
   ]
  },
  {
   "cell_type": "code",
   "execution_count": 60,
   "metadata": {},
   "outputs": [
    {
     "output_type": "execute_result",
     "data": {
      "text/plain": [
       "['A', 'A', 'A', 'A', 'A', 'A', 'A']"
      ]
     },
     "metadata": {},
     "execution_count": 60
    }
   ],
   "source": [
    "# And as we have already seen, if we don't include a quantifier then the default is {1,1}\n",
    "re.findall(\"A{1,1}\", grades)"
   ]
  },
  {
   "cell_type": "code",
   "execution_count": 61,
   "metadata": {},
   "outputs": [
    {
     "output_type": "execute_result",
     "data": {
      "text/plain": [
       "['AAA']"
      ]
     },
     "metadata": {},
     "execution_count": 61
    }
   ],
   "source": [
    "# Oh, and if you just have one number in the braces, it's considered to be both m and n\n",
    "re.findall(\"A{3}\", grades)"
   ]
  },
  {
   "cell_type": "code",
   "execution_count": 62,
   "metadata": {},
   "outputs": [
    {
     "output_type": "execute_result",
     "data": {
      "text/plain": [
       "['AAAABC']"
      ]
     },
     "metadata": {},
     "execution_count": 62
    }
   ],
   "source": [
    "# Using this, we could find a decreasing trend in a student's grades\n",
    "re.findall(\"A{1,10}B{1,10}C{1,10}\", grades)"
   ]
  },
  {
   "cell_type": "code",
   "execution_count": 63,
   "metadata": {},
   "outputs": [
    {
     "output_type": "execute_result",
     "data": {
      "text/plain": [
       "'Overview[edit]\\nFERPA gives parents access to their child\\'s education records, an opportunity to seek to have the records amended, and some control over the disclosure of information from the records. With several exceptions, schools must have a student\\'s consent prior to the disclosure of education records after that student is 18 years old. The law applies only to educational agencies and institutions that receive funds under a program administered by the U.S. Department of Education.\\n\\nOther regulations under this act, effective starting January 3, 2012, allow for greater disclosures of personal and directory student identifying information and regulate student IDs and e-mail addresses.[2] For example, schools may provide external companies with a student\\'s personally identifiable information without the student\\'s consent.[2]\\n\\nExamples of situations affected by FERPA include school employees divulging information to anyone other than the student about the student\\'s grades or behavior, and school work posted on a bulletin board with a grade. Generally, schools must have written permission from the parent or eligible student in order to release any information from a student\\'s education record.\\n\\nThis privacy policy also governs how state agencies transmit testing data to federal agencies, such as the Education Data Exchange Network.\\n\\nThis U.S. federal law also gave students 18 years of age or older, or students of any age if enrolled in any post-secondary educational institution, the right of privacy regarding grades, enrollment, and even billing information unless the school has specific permission from the student to share that specific type of information.\\n\\nFERPA also permits a school to disclose personally identifiable information from education records of an \"eligible student\" (a student age 18 or older or enrolled in a postsecondary institution at any age) to his or her parents if the student is a \"dependent student\" as that term is defined in Section 152 of the Internal Revenue Code. Generally, if either parent has claimed the student as a dependent on the parent\\'s most recent income tax statement, the school may non-consensually disclose the student\\'s education records to both parents.[3]\\n\\nThe law allowed students who apply to an educational institution such as graduate school permission to view recommendations submitted by others as part of the application. However, on standard application forms, students are given the option to waive this right.\\n\\nFERPA specifically excludes employees of an educational institution if they are not students.\\n\\nThe act is also referred to as the Buckley Amendment, for one of its proponents, Senator James L. Buckley of New York.\\n\\nAccess to public records[edit]\\nThe citing of FERPA to conceal public records that are not \"educational\" in nature has been widely criticized, including by the act\\'s primary Senate sponsor.[4] For example, in the Owasso Independent School District v. Falvo case, an important part of the debate was determining the relationship between peer-grading and \"education records\" as defined in FERPA. In the Court of Appeals, it was ruled that students placing grades on the work of other students made such work into an \"education record.\" Thus, peer-grading was determined as a violation of FERPA privacy policies because students had access to other students\\' academic performance without full consent.[5] However, when the case went to the Supreme Court, it was officially ruled that peer-grading was not a violation of FERPA. This is because a grade written on a student\\'s work does not become an \"education record\" until the teacher writes the final grade into a grade book.[6]\\n\\nStudent medical records[edit]\\nLegal experts have debated the issue of whether student medical records (for example records of therapy sessions with a therapist at an on-campus counseling center) might be released to the school administration under certain triggering events, such as when a student sued his college or university.[7][8]\\n\\nUsually, student medical treatment records will remain under the protection of FERPA, not the Health Insurance Portability and Accountability Act (HIPAA). This is due to the \"FERPA Exception\" written within HIPAA.[9]'"
      ]
     },
     "metadata": {},
     "execution_count": 63
    }
   ],
   "source": [
    "# Now, that's a bit of a hack, because we included a maximum that was just arbitrarily large. There are three\n",
    "# other quantifiers that are used as short hand, an asterix * to match 0 or more times, a question mark ? to\n",
    "# match one or more times, or a + plus sign to match one or more times. Lets look at a more complex example,\n",
    "# and load some data scraped from wikipedia\n",
    "with open(\"ferpa.txt\", \"r\") as file:\n",
    "    # we'll read that into a variable called wiki\n",
    "    wiki = file.read()\n",
    "# and lets print that variable out to the screen\n",
    "wiki"
   ]
  },
  {
   "cell_type": "code",
   "execution_count": 64,
   "metadata": {},
   "outputs": [
    {
     "output_type": "execute_result",
     "data": {
      "text/plain": [
       "['Overview[edit]', 'records[edit]', 'records[edit]']"
      ]
     },
     "metadata": {},
     "execution_count": 64
    }
   ],
   "source": [
    "# Scanning through this document one of the things we notice is that the headers all have the words [edit]\n",
    "# behind them, followed by a newline character. So if we wanted to get a list of all of the headers in this\n",
    "# article we could do so using re.findall\n",
    "re.findall(\"[a-zA-Z]{1,100}\\[edit\\]\", wiki)"
   ]
  },
  {
   "cell_type": "code",
   "execution_count": 65,
   "metadata": {},
   "outputs": [
    {
     "output_type": "execute_result",
     "data": {
      "text/plain": [
       "['Overview[edit]', 'records[edit]', 'records[edit]']"
      ]
     },
     "metadata": {},
     "execution_count": 65
    }
   ],
   "source": [
    "# Ok, that didn't quite work. It got all of the headers, but only the last word of the header, and it really\n",
    "# was quite clunky. Lets iteratively improve this. First, we can use \\w to match any letter, including digits\n",
    "# and numbers.\n",
    "re.findall(\"\\w{1,100}\\[edit\\]\", wiki)"
   ]
  },
  {
   "cell_type": "code",
   "execution_count": 66,
   "metadata": {},
   "outputs": [
    {
     "output_type": "execute_result",
     "data": {
      "text/plain": [
       "['Overview[edit]', 'records[edit]', 'records[edit]']"
      ]
     },
     "metadata": {},
     "execution_count": 66
    }
   ],
   "source": [
    "# This is something new. \\w is a metacharacter, and indicates a special pattern of any letter or digit. There\n",
    "# are actually a number of different metacharacters listed in the documentation. For instance, \\s matches any\n",
    "# whitespace character.\n",
    "\n",
    "# Next, there are three other quantifiers we can use which shorten up the curly brace syntax. We can use an\n",
    "# asterix * to match 0 or more times, so let's try that.\n",
    "re.findall(\"[\\w]*\\[edit\\]\", wiki)"
   ]
  },
  {
   "cell_type": "code",
   "execution_count": 67,
   "metadata": {},
   "outputs": [
    {
     "output_type": "execute_result",
     "data": {
      "text/plain": [
       "['Overview[edit]',\n",
       " 'Access to public records[edit]',\n",
       " 'Student medical records[edit]']"
      ]
     },
     "metadata": {},
     "execution_count": 67
    }
   ],
   "source": [
    "# Now that we have shortened the regex, let's improve it a little bit. We can add in a spaces using the space\n",
    "# character\n",
    "re.findall(\"[\\w ]*\\[edit\\]\", wiki)"
   ]
  },
  {
   "cell_type": "code",
   "execution_count": 68,
   "metadata": {},
   "outputs": [
    {
     "output_type": "stream",
     "name": "stdout",
     "text": [
      "Overview\nAccess to public records\nStudent medical records\n"
     ]
    }
   ],
   "source": [
    "# Ok, so this gets us the list of section titles in the wikipedia page! You can now create a list of titles by\n",
    "# iterating through this and applying another regex\n",
    "for title in re.findall(\"[\\w ]*\\[edit\\]\", wiki):\n",
    "    # Now we will take that intermediate result and split on the square bracket [ just taking the first result\n",
    "    print(re.split(\"[\\[]\", title)[0])"
   ]
  },
  {
   "source": [
    "# Groups"
   ],
   "cell_type": "markdown",
   "metadata": {}
  },
  {
   "cell_type": "code",
   "execution_count": 69,
   "metadata": {},
   "outputs": [
    {
     "output_type": "execute_result",
     "data": {
      "text/plain": [
       "[('Overview', '[edit]'),\n",
       " ('Access to public records', '[edit]'),\n",
       " ('Student medical records', '[edit]')]"
      ]
     },
     "metadata": {},
     "execution_count": 69
    }
   ],
   "source": [
    "# Ok, this works, but it's a bit of a pain. To this point we have been talking about a regex as a single\n",
    "# pattern which is matched. But, you can actually match different patterns, called groups, at the same time,\n",
    "# and then refer to the groups you want. To group patterns together you use parentheses, which is actually\n",
    "# pretty natural. Lets rewrite our findall using groups\n",
    "re.findall(\"([\\w ]*)(\\[edit\\])\", wiki)"
   ]
  },
  {
   "cell_type": "code",
   "execution_count": 70,
   "metadata": {},
   "outputs": [
    {
     "output_type": "stream",
     "name": "stdout",
     "text": [
      "('Overview', '[edit]')\n('Access to public records', '[edit]')\n('Student medical records', '[edit]')\n"
     ]
    }
   ],
   "source": [
    "# Nice - we see that the python re module breaks out the result by group. We can actually refer to groups by\n",
    "# number as well with the match objects that are returned. But, how do we get back a list of match objects?\n",
    "# Thus far we've seen that findall() returns strings, and search() and match() return individual Match\n",
    "# objects. But what do we do if we want a list of Match objects? In this case, we use the function finditer()\n",
    "for item in re.finditer(\"([\\w ]*)(\\[edit\\])\", wiki):\n",
    "    print(item.groups())"
   ]
  },
  {
   "cell_type": "code",
   "execution_count": 71,
   "metadata": {},
   "outputs": [
    {
     "output_type": "stream",
     "name": "stdout",
     "text": [
      "Overview\n",
      "Access to public records\n",
      "Student medical records\n"
     ]
    }
   ],
   "source": [
    "# We see here that the groups() method returns a tuple of the group. We can get an individual group using\n",
    "# group(number), where group(0) is the whole match, and each other number is the portion of the match we are\n",
    "# interested in. In this case, we want group(1)\n",
    "for item in re.finditer(\"([\\w ]*)(\\[edit\\])\", wiki):\n",
    "    print(item.group(1))"
   ]
  },
  {
   "cell_type": "code",
   "execution_count": 72,
   "metadata": {},
   "outputs": [
    {
     "output_type": "stream",
     "name": "stdout",
     "text": [
      "Overview\nAccess to public records\nStudent medical records\n"
     ]
    }
   ],
   "source": [
    "# One more piece to regex groups that I rarely use but is a good idea is labeling or naming groups. In the\n",
    "# previous example I showed you how you can use the position of the group. But giving them a label and looking\n",
    "# at the results as a dictionary is pretty useful. For that we use the syntax (?P<name>), where the parethesis\n",
    "# starts the group, the ?P indicates that this is an extension to basic regexes, and <name> is the dictionary\n",
    "# key we want to use wrapped in <>.\n",
    "for item in re.finditer(\"(?P<title>[\\w ]*)(?P<edit_link>\\[edit\\])\", wiki):\n",
    "    # We can get the dictionary returned for the item with .groupdict()\n",
    "    print(item.groupdict()['title'])"
   ]
  },
  {
   "cell_type": "code",
   "execution_count": 73,
   "metadata": {},
   "outputs": [
    {
     "output_type": "stream",
     "name": "stdout",
     "text": [
      "{'title': 'Student medical records', 'edit_link': '[edit]'}\n"
     ]
    }
   ],
   "source": [
    "# Of course, we can print out the whole dictionary for the item too, and see that the [edit] string is still\n",
    "# in there. Here's the dictionary kept for the last match\n",
    "print(item.groupdict())"
   ]
  },
  {
   "cell_type": "code",
   "execution_count": 74,
   "metadata": {},
   "outputs": [],
   "source": [
    "# Ok, we have seen how we can match individual character patterns with [], how we can group matches together\n",
    "# using (), and how we can use quantifiers such as *, ?, or m{n} to describe patterns. Something I glossed\n",
    "# over in the previous example was the \\w, which standards for any word character. There are a number of\n",
    "# short hands which are used with regexes for different kinds of characters, including:\n",
    "# a . for any single character which is not a newline\n",
    "# a \\d for any digit\n",
    "# and \\s for any whitespace character, like spaces and tabs\n",
    "# There are more, and a full list can be found in the python documentation for regexes"
   ]
  },
  {
   "source": [
    "# Look-ahead and Look-behind"
   ],
   "cell_type": "markdown",
   "metadata": {}
  },
  {
   "cell_type": "code",
   "execution_count": 75,
   "metadata": {},
   "outputs": [
    {
     "output_type": "stream",
     "name": "stdout",
     "text": [
      "<re.Match object; span=(0, 8), match='Overview'>\n<re.Match object; span=(2715, 2739), match='Access to public records'>\n<re.Match object; span=(3692, 3715), match='Student medical records'>\n"
     ]
    }
   ],
   "source": [
    "# One more concept to be familiar with is called \"look ahead\" and \"look behind\" matching. In this case, the\n",
    "# pattern being given to the regex engine is for text either before or after the text we are trying to\n",
    "# isolate. For example, in our headers we want to isolate text which  comes before the [edit] rendering, but\n",
    "# we actually don't care about the [edit] text itself. Thus far we have been throwing the [edit] away, but if\n",
    "# we want to use them to match but don't want to capture them we could put them in a group and use look ahead\n",
    "# instead with ?= syntax\n",
    "for item in re.finditer(\"(?P<title>[\\w ]+)(?=\\[edit\\])\", wiki):\n",
    "    # What this regex says is match two groups, the first will be named and called title, will have any amount\n",
    "    # of whitespace or regular word characters, the second will be the characters [edit] but we don't actually\n",
    "    # want this edit put in our output match objects\n",
    "    print(item)"
   ]
  },
  {
   "source": [
    "# Example: Wikipedia Data"
   ],
   "cell_type": "markdown",
   "metadata": {}
  },
  {
   "cell_type": "code",
   "execution_count": 76,
   "metadata": {},
   "outputs": [
    {
     "output_type": "execute_result",
     "data": {
      "text/plain": [
       "'Buddhist universities and colleges in the United States\\nFrom Wikipedia, the free encyclopedia\\nJump to navigationJump to search\\n\\nThis article needs additional citations for verification. Please help improve this article by adding citations to reliable sources. Unsourced material may be challenged and removed.\\nFind sources: \"Buddhist universities and colleges in the United States\" – news · newspapers · books · scholar · JSTOR (December 2009) (Learn how and when to remove this template message)\\nThere are several Buddhist universities in the United States. Some of these have existed for decades and are accredited. Others are relatively new and are either in the process of being accredited or else have no formal accreditation. The list includes:\\n\\nDhammakaya Open University – located in Azusa, California, part of the Thai Wat Phra Dhammakaya[1]\\nDharmakirti College – located in Tucson, Arizona Now called Awam Tibetan Buddhist Institute (http://awaminstitute.org/)\\nDharma Realm Buddhist University – located in Ukiah, California\\nEwam Buddhist Institute – located in Arlee, Montana\\nNaropa University is located in Boulder, Colorado (Accredited by the Higher Learning Commission)\\nInstitute of Buddhist Studies – located in Berkeley, California\\nMaitripa College – located in Portland, Oregon\\nSoka University of America – located in Aliso Viejo, California\\nUniversity of the West – located in Rosemead, California\\nWon Institute of Graduate Studies – located in Glenside, Pennsylvania\\nReferences[edit]\\n^ Banchanon, Phongphiphat (3 February 2015). รู้จัก \"เครือข่ายธรรมกาย\" [Getting to know the Dhammakaya network]. Forbes Thailand (in Thai). Retrieved 11 November 2016.\\nExternal links[edit]\\nList of Buddhist Universities and Colleges in the world\\n'"
      ]
     },
     "metadata": {},
     "execution_count": 76
    }
   ],
   "source": [
    "# Let's look at some more wikipedia data. Here's some data on universities in the US which are buddhist-based\n",
    "with open(\"buddhist.txt\", \"r\") as file:\n",
    "    # we'll read that into a variable called wiki\n",
    "    wiki = file.read()\n",
    "# and lets print that variable out to the screen\n",
    "wiki"
   ]
  },
  {
   "cell_type": "code",
   "execution_count": 95,
   "metadata": {},
   "outputs": [
    {
     "output_type": "stream",
     "name": "stdout",
     "text": [
      "{'title': 'Dhammakaya Open University ', 'city': 'Azusa', 'state': 'California'}\n{'title': 'Dharmakirti College ', 'city': 'Tucson', 'state': 'Arizona'}\n{'title': 'Dharma Realm Buddhist University ', 'city': 'Ukiah', 'state': 'California'}\n{'title': 'Ewam Buddhist Institute ', 'city': 'Arlee', 'state': 'Montana'}\n{'title': 'Institute of Buddhist Studies ', 'city': 'Berkeley', 'state': 'California'}\n{'title': 'Maitripa College ', 'city': 'Portland', 'state': 'Oregon'}\n{'title': 'University of the West ', 'city': 'Rosemead', 'state': 'California'}\n{'title': 'Won Institute of Graduate Studies ', 'city': 'Glenside', 'state': 'Pennsylvania'}\n"
     ]
    }
   ],
   "source": [
    "# We can see that each university follows a fairly similar pattern, with the name followed by an – then the\n",
    "# words \"located in\" followed by the city and state\n",
    "\n",
    "# I'll actually use this example to show you the verbose mode of python regexes. The verbose mode allows you\n",
    "# to write multi-line regexes and increases readability. For this mode, we have to explicitly indicate all\n",
    "# whitespace characters, either by prepending them with a \\ or by using the \\s special value. However, this\n",
    "# means we can write our regex a bit more like code, and can even include comments with #\n",
    "pattern = \"\"\"\n",
    "(?P<title>.*)       #the university title\n",
    "(–\\ located\\ in\\ )  #an indicator of the location\n",
    "(?P<city>\\w*)       #city the university is in\n",
    "(,\\ )               #separator for the state\n",
    "(?P<state>\\w*)      #the state the city is located in\"\"\"\n",
    "\n",
    "# Now when we call finditer() we just pass the re.VERBOSE flag as the last parameter, this makes it much\n",
    "# easier to understand large regexes!\n",
    "for item in re.finditer(pattern, wiki, re.VERBOSE):\n",
    "    # We can get the dictionary returned for the item with .groupdict()\n",
    "    print(item.groupdict())"
   ]
  },
  {
   "source": [
    "# Example: New York Times and Hashtags"
   ],
   "cell_type": "markdown",
   "metadata": {}
  },
  {
   "cell_type": "code",
   "execution_count": 98,
   "metadata": {},
   "outputs": [
    {
     "output_type": "execute_result",
     "data": {
      "text/plain": [
       "Customers Are Generally Happy http://nyti.ms/1q0OTGZ\\n487095289883656192|Thu Jul 10 04:45:41 +0000 2014|Race Is On to Profit From Rise of Urgent Care http://nyti.ms/1sA0YA4\\n487078036408254464|Thu Jul 10 03:37:08 +0000 2014|America’s young people, as a group, are becoming more out of shape with every passing year http://nyti.ms/1mIZ80m\\n487041531824459776|Thu Jul 10 01:12:04 +0000 2014|Drug-resistant tuberculosis is on the rise http://nyti.ms/1xU0ZSr via @nytopinion\\n487018872982097921|Wed Jul 09 23:42:02 +0000 2014|Lettuce turnip the beet http://nyti.ms/1xTUoYa\\n486984329260974080|Wed Jul 09 21:24:46 +0000 2014|Europe Fines Servier in Pay-for-Delay Crackdown http://nyti.ms/VYT09l\\n486965947119702016|Wed Jul 09 20:11:43 +0000 2014|Staple closures are faster, but suture closures are safer after a C-section http://nyti.ms/1xTFtx3\\n486935846335950849|Wed Jul 09 18:12:07 +0000 2014|No, contraception coverage does not usually pay for itself http://nyti.ms/1mJoeMl\\n486920209425760256|Wed Jul 09 17:09:59 +0000 2014|The rapid price increases for some generic drugs have caught doctors and patients by surprise http://nyti.ms/1mJjQNq\\n486893969461485568|Wed Jul 09 15:25:43 +0000 2014|Well: Staples vs. Sutures After C-Section http://nyti.ms/U3MH2H\\n486892211708379136|Wed Jul 09 15:18:43 +0000 2014|America’s young people, as a group, are becoming more out of shape with every passing year http://nyti.ms/1mIZ80m\\n486726231376007168|Wed Jul 09 04:19:11 +0000 2014|Probing Brain’s Depth, Trying to Aid Memory http://nyti.ms/VHWfBD\\n486726230008668160|Wed Jul 09 04:19:10 +0000 2014|Well: This Is Our Youth http://nyti.ms/VHY1mj\\n486722323052232704|Wed Jul 09 04:03:39 +0000 2014|Democrats Push Bill to Reverse Supreme Court Ruling on Contraceptives http://nyti.ms/1kCeNJ1\\n486718007939694592|Wed Jul 09 03:46:30 +0000 2014|Using M.C.s and M.D.s to Promote Healthy Eating for Youths http://nyti.ms/VHSMCY\\n486718006878543872|Wed Jul 09 03:46:30 +0000 2014|Six Vials of Smallpox Discovered in Laboratory Near Washington http://nyti.ms/VHSMCU\\n486697277621145600|Wed Jul 09 02:24:08 +0000 2014|Excessive drinking is the fourth leading cause of preventable death in the United States http://nyti.ms/1mFreJQ\\n486663808362885120|Wed Jul 09 00:11:08 +0000 2014|Try this refreshing grilled watermelon and feta salad (Photo: Andrew Scrivani for NYT) http://nyti.ms/1mFsHzM http://pbs.twimg.com/media/BsDQpAHCcAE3pga.jpg\\n486633116400766978|Tue Jul 08 22:09:10 +0000 2014|Would you want to read your therapist\\'s notes after each session? http://nyti.ms/1mFp3WB\\n486620561770954754|Tue Jul 08 21:19:17 +0000 2014|Vials of Smallpox Found in F.D.A. Storage Room http://nyti.ms/1r6OGir\\n486617905313112065|Tue Jul 08 21:08:44 +0000 2014|Coming to the United States for a baby, and womb to carry it (Photo: Matt Rainey for NYT) http://nyti.ms/1xOiKm5 http://pbs.twimg.com/media/BsDQZ-ECIAEq1yU.jpg\\n486581789096697856|Tue Jul 08 18:45:13 +0000 2014|RT @paula_span: How useful are five-star ratings Medicare awards for nursing homes? Ohio residents, families say: Not very. http://t.co/6r7…\\n486568181847576576|Tue Jul 08 17:51:09 +0000 2014|Long waits to get a doctor\\'s appointment have become the norm in many parts of American medicine http://nyti.ms/1xNnM27 via @nytopinion\\n486555011464585217|Tue Jul 08 16:58:49 +0000 2014|The New Old Age Blog: The Fault in Our Stars http://nyti.ms/1r6ddEh\\n486539604599001088|Tue Jul 08 15:57:35 +0000 2014|RT @celiadugger: 1.5 million tons of flame retardants are used annually and get into everything from peanut butter to women\\'s bodies. http:…\\n486529783975931905|Tue Jul 08 15:18:34 +0000 2014|RT @dacorc: Fascinating, from @JanHoffmanNYT: What the Therapist Thinks About You http://nyti.ms/1n1p5SY\\n486283818362748928|Mon Jul 07 23:01:11 +0000 2014|Profiles in Science: A Billionaire Mathematician’s Life of Ferocious Curiosity http://nyti.ms/1mt5NK8\\n486274207396159490|Mon Jul 07 22:23:00 +0000 2014|RT @nytdining: .@Bittman is giving tofu the new look it deserves: http://nyti.ms/1pVqAdr Photo: @esung http://pbs.twimg.com/media/Br-VjIOIYAAKBSD.jpg\\n486267214245658624|Mon Jul 07 21:55:12 +0000 2014|Global Health: New Field Tests May Curb Kissing Bug Disease http://nyti.ms/1m9Sz5z\\n486241709773565953|Mon Jul 07 20:13:52 +0000 2014|Well: What the Therapist Thinks About You http://nyti.ms/1m9EsgB\\n486224971145158656|Mon Jul 07 19:07:21 +0000 2014|RT @GabrielleGlaser: Some hopeful news. My latest on evidence-based treatment of substance abuse: A Different Path to Fighting Addiction ht…\\n486221286952407040|Mon Jul 07 18:52:43 +0000 2014|RT @MarthaRShulman: Grilled Vanilla-Ginger Pineapple http://nyti.ms/1zkguo8 Don\\'t put away your grills! Grilled fruit all week on #Recipesf…\\n486209214399131648|Mon Jul 07 18:04:44 +0000 2014|Well: Studying May Make You Nearsighted http://nyti.ms/1j93LzH\\n486205381023379456|Mon Jul 07 17:49:30 +0000 2014|Well: Alcohol Remains a Leading Killer http://nyti.ms/1j938pW\\n486191101507035137|Mon Jul 07 16:52:46 +0000 2014|Well: Weekend Dangers at the E.R. http://nyti.ms/1j8VTym\\n486184377152729089|Mon Jul 07 16:26:03 +0000 2014|RT @tamarnyt: With surrogacy illegal in so many countries, more foreign couples heading to US for a womb, and a baby   http://t.co/JUE9Vo9U…\\n486183953339252736|Mon Jul 07 16:24:21 +0000 2014|How closely have you been following health news? The weekly quiz: http://nyti.ms/1tgaFaO\\n486178421731766272|Mon Jul 07 16:02:23 +0000 2014|RT @celiadugger: It\\'s not just VA patients who wait for apts. So do privately insured Americans,  writes @nytrosenthal. http://t.co/Gn4BtqF…\\n486178351481389057|Mon Jul 07 16:02:06 +0000 2014|RT @nytrosenthal: http://www.nytimes.com/2014/07/06/sunday-review/long-waits-for-doctors-appointments-have-become-the-norm.html To discuss long U.S. wait times and solutions, please join our Facebook Group  https://t.co/lmM8QF…\\n486178327468990464|Mon Jul 07 16:02:00 +0000 2014|RT @nytrosenthal: Myth that US patients don\\'t wait for medical care. They do! http://www.nytimes.com/2014/07/06/sunday-review/long-waits-for-doctors-appointments-have-become-the-norm.html. Join NYT new Paying Till it Hurts FB …\\n486178167334653952|Mon Jul 07 16:01:22 +0000 2014|RT @cslnyt: Fighting addiction without A.A. @gabrielleglaser http://nyti.ms/1qDgmxF\\n486174278938025984|Mon Jul 07 15:45:55 +0000 2014|Recipes for Health: Grilled Vanilla-Ginger Pineapple http://nyti.ms/1qbUOEG\\n486159407353720833|Mon Jul 07 14:46:49 +0000 2014|The New Health Care: Gingrich’s Correct Prediction About Medicare’s Future http://nyti.ms/1qbKug6\\n486000614611353600|Mon Jul 07 04:15:50 +0000 2014|Well: Overweight and Pregnant http://nyti.ms/1lMoGn8\\n485569747233550336|Sat Jul 05 23:43:43 +0000 2014|Foreign Couples Heading to America for Surrogate Pregnancies http://nyti.ms/1zgxKeb\\n485565040838193152|Sat Jul 05 23:25:01 +0000 2014|Foreign Couples Heading to America for Surrogate Pregnancies http://nyti.ms/1zgwyY2\\n485425398935994368|Sat Jul 05 14:10:08 +0000 2014|Remember to reapply your sunscreen! http://nyti.ms/1qCzRGD\\n485248904561446913|Sat Jul 05 02:28:49 +0000 2014|Obama Weighs Steps to Cover Contraception http://nyti.ms/TUNumh\\n485236091297865728|Sat Jul 05 01:37:54 +0000 2014|Virus Plagues the Pork Industry, and Environmentalists http://nyti.ms/1j3MKqN\\n484913764224229376|Fri Jul 04 04:17:05 +0000 2014|Well: Adopt a Bean and Cook With It http://nyti.ms/1lDZQ8J\\n484896300828459008|Fri Jul 04 03:07:41 +0000 2014|A Different Path to Fighting Addiction http://nyti.ms/1otiKnz\\n484896299276578816|Fri Jul 04 03:07:41 +0000 2014|Birth Control Order Deepens Divide Among Justices http://nyti.ms/1j1SRvK\\n484805714222010369|Thu Jul 03 21:07:44 +0000 2014|Your questions on Truvada, answered: http://nyti.ms/1qCANLb\\n484805375167062017|Thu Jul 03 21:06:23 +0000 2014|More on Truvada, the drug that could transform AIDS prevention in the United States: http://nyti.ms/1qCAAHR\\n484803227704360962|Thu Jul 03 20:57:51 +0000 2014|Moving beyond condoms as HIV risk-reduction tool. Gov. Andrew Cuomo pushes for new strategy.  http://nyti.ms/1qCz9t7\\n484790700899581952|Thu Jul 03 20:08:04 +0000 2014|The Think Like a Doctor answer is … Insulinoma. A reader who was not a doctor figured it out. http://nyti.ms/1qCpD9n\\n484785299269386240|Thu Jul 03 19:46:36 +0000 2014|Fighting an Epidemic: Pill to Prevent H.I.V. Gets a Prominent Backer: Andrew Cuomo http://nyti.ms/Vj7MqL\\n484775388455780352|Thu Jul 03 19:07:13 +0000 2014|Well: Think Like a Doctor: Sugar-Free Solved! http://nyti.ms/ViXAyx\\n484770755390222336|Thu Jul 03 18:48:49 +0000 2014|RT @paula_span: Is it condescending to warn seniors about #benzos risks and try to help them quit? Some New Old Age readers unhappy. http:/…\\n484734783931813888|Thu Jul 03 16:25:53 +0000 2014|RT @heathertal: Parents must spend more than $500 on mandatory vaccine. Meanwhile manufacturer is making $4 billion. @nytrosenthal http://t…\\n484718841197772800|Thu Jul 03 15:22:32 +0000 2014|RT @nytrosenthal: Who knew kids vaccinations had become so pricey? The latest from NYT series Paying Till it Hurts.  http://www.nytimes.com/2014/07/03/health/Vaccine-Costs-Soaring-Paying-Till-It-Hurts.html\\n484718782485921792|Thu Jul 03 15:22:18 +0000 2014|RT @nytrosenthal: Read to end of vaccine piece: We started a NYT Paying Till it Hurts Facebook Group to talk HC prices! Please join! https:…\\n484718650562449408|Thu Jul 03 15:21:46 +0000 2014|RT @celiadugger: 100s of 1000s of Americans get spinal shots for back &amp; leg pain but randomized trial finds the don\\'t help much. http://t.c…\\n484712832827928576|Thu Jul 03 14:58:39 +0000 2014|RT @ReedAbelson: Jamie Dimon’s Cancer Revelation Raises Questions About Disclosing the C.E.O.’s Illness http://nyti.ms/1qzxq7Q\\n484648552787099648|Thu Jul 03 10:43:13 +0000 2014|Well: The Doctor Gets V.I.P. Treatment http://nyti.ms/1mWrzGO\\n484551061471232000|Thu Jul 03 04:15:50 +0000 2014|Well: Ask Well: Reapply Your Sunscreen http://nyti.ms/1jLKQpI\\n484539837933182977|Thu Jul 03 03:31:14 +0000 2014|DealBook: Jamie Dimon’s Cancer Revelation Raises Questions About Disclosing the C.E.O.’s Illness http://nyti.ms/1mmrpth\\n484539836985253888|Thu Jul 03 03:31:14 +0000 2014|Paying Till It Hurts: The Price of Prevention: Vaccine Costs Soaring http://nyti.ms/1oaTbpu\\n484535447889379328|Thu Jul 03 03:13:47 +0000 2014|National Briefing | Midwest: Missouri: Three-Day Wait for Abortion Is Vetoed http://nyti.ms/1mmoVep\\n484535446958276609|Thu Jul 03 03:13:47 +0000 2014|Rick Perry Turns From Beloved Cowboy Boots http://nyti.ms/1oaOyvI\\n484531438260600834|Thu Jul 03 02:57:51 +0000 2014|After Criticism, Investigator Steps Down From the V.A. http://nyti.ms/1oaOyvG\\n484531436964573184|Thu Jul 03 02:57:51 +0000 2014|Insurers on New York State’s Health Exchange Seek Significant Rate Increases http://nyti.ms/1mmoVen\\n484448386167623681|Wed Jul 02 21:27:50 +0000 2014|RT @BarryMeier: Update: Sgt. Shane Savage of \"A Soldier\\'s War on Pain\" http://nyti.ms/1mNebGV had amputation. He\\'s feeling good and ready t…\\n484448292945010688|Wed Jul 02 21:27:28 +0000 2014|RT @PamBelluck: For people with back pain, an important new study: do steroid injections for spinal stenosis work? http://nyti.ms/1vxMZun\\n484444737542569985|Wed Jul 02 21:13:20 +0000 2014|Common Treatment for Back Pain Provides Little Help, Study Says http://nyti.ms/1o2FnMu\\n484436345444904960|Wed Jul 02 20:39:59 +0000 2014|RT @cslnyt: Is practice variation ok?Or should medicine be strictly evidence-based?  @aaronecarroll    http://nyti.ms/1qTjW6N\\n484435496861724672|Wed Jul 02 20:36:37 +0000 2014|RT @paula_span: A brochure can help wean older adults off risky benzos -- sleeping pills. http://newoldage.blogs.nytimes.com/2014/07/02/weaning-older-patients-off-of-sleeping-pills/\\n484422971206160384|Wed Jul 02 19:46:51 +0000 2014|State of the Art: The Bright Side of Facebook’s Social Experiments on Users http://nyti.ms/1pXvCle\\n484402471696351233|Wed Jul 02 18:25:23 +0000 2014|The New Old Age Blog: Weaning Older Patients Off of Sleeping Pills http://nyti.ms/1m9elpD\\n484395946307231744|Wed Jul 02 17:59:27 +0000 2014|RT @nytimes: Moderate exercise may help to slow the progression of Alzheimer\\'s disease http://nyti.ms/1mK6rip\\n484321748478099456|Wed Jul 02 13:04:37 +0000 2014|Well: Think Like a Doctor: Sugar-Free http://nyti.ms/1o1Aa7D\\n484305663125114880|Wed Jul 02 12:00:42 +0000 2014|For all the antiquity and notoriety of leprosy, the disease continues to surprise and confound http://nyti.ms/TCriwV\\n484195469024059392|Wed Jul 02 04:42:50 +0000 2014|World Briefing: Ebola Outbreak Is Largest Ever http://nyti.ms/1mj0IFX\\n484195467702845440|Wed Jul 02 04:42:50 +0000 2014|Nutrition Group Lobbies Against Healthier School Meals It Sought, Citing Cost http://nyti.ms/TBC3zz\\n484190171525824512|Wed Jul 02 04:21:47 +0000 2014|Well: Can Exercise Reduce Alzheimer’s Risk? http://nyti.ms/TBzWfc\\n484175138670120960|Wed Jul 02 03:22:03 +0000 2014|Flame retardants have been found in a multitude of places, from breast milk to Antarctic penguins http://nyti.ms/1qvRYy1\\n484140405470949376|Wed Jul 02 01:04:02 +0000 2014|The psychology of the penalty kick http://nyti.ms/1rUYkEI\\n484064852286005250|Tue Jul 01 20:03:48 +0000 2014|Prescription Drug Deaths in Florida Plunge After Tougher Laws http://nyti.ms/1rebbEv\\n484034208428752898|Tue Jul 01 18:02:02 +0000 2014|The illogic of employer-sponsored health insurance http://nyti.ms/1rUkxTf\\n484025611728723968|Tue Jul 01 17:27:53 +0000 2014|RT @nytDeniseGrady: No need for a hated checkup? Guideline Calls Routine Pelvic Exams Unnecessary http://nyti.ms/1qsbVpl\\n484025561590009856|Tue Jul 01 17:27:41 +0000 2014|RT @deborahblum: My latest for @nytimes: Flame Retardants Are Everywhere (from peanut butter to penguins)  http://nyti.ms/1kaFSCI\\n484018258597937152|Tue Jul 01 16:58:40 +0000 2014|Well: Flame Retardants Are Everywhere http://nyti.ms/1mhoYrW\\n483998662222417920|Tue Jul 01 15:40:47 +0000 2014|Gluten-Free Dining in Italy http://nyti.ms/1odsH8z\\n483984158533120000|Tue Jul 01 14:43:10 +0000 2014|Recipes for Health: Big Bowl With Spicy Brown Bean, Squash and Corn Succotash http://nyti.ms/V7FGP8\\n483737560863494144|Mon Jun 30 22:23:16 +0000 2014|On View: ‘Code Black’: A Window Into Doctors’ Training http://nyti.ms/1meU8QT\\n483737559064129536|Mon Jun 30 22:23:16 +0000 2014|Reactions : Life Outside the Hospital; Consequences of Cool; You’re So Far Away http://nyti.ms/1meW6R0\\n483732819676770304|Mon Jun 30 22:04:26 +0000 2014|Global Health: Clue to Disease’s Spread in a 6,200-Year-Old Grave http://nyti.ms/TxqfON\\n483731914302705664|Mon Jun 30 22:00:50 +0000 2014|RT @nytvideo: Mental Health in the Pistorius Trial http://nyti.ms/1meKjCr\\n483730553464946688|Mon Jun 30 21:55:25 +0000 2014|RT @cslnyt: 999+ comments on @adamliptak story on Supreme Ct rejection of birth control mandate http://nyti.ms/1r6GYaa\\n483728121045479424|Mon Jun 30 21:45:45 +0000 2014|Q&amp;A: Eating the Shell Along With the Egg? http://nyti.ms/TxoO2I\\n483720040710430720|Mon Jun 30 21:13:39 +0000 2014|Doctors’ Group Advises Against Regular Pelvic Exams http://nyti.ms/1meMeqB\\n483701116635717632|Mon Jun 30 19:58:27 +0000 2014|RT @dacorc: Who knew? From Natalie @Angier58: Leprosy, Still Claiming Victims http://nyti.ms/1mB4EvK\\n483687512809172993|Mon Jun 30 19:04:24 +0000 2014|Debate That Divides: How Hobby Lobby Ruling Could Limit Access to Birth Control http://nyti.ms/1meqVFD\\n483686339687510016|Mon Jun 30 18:59:44 +0000 2014|Hobby Lobby ruling seems likely to make it harder for women to get contraception in the future @aaroncarroll writes http://nyti.ms/1iO0g23\\n483683719476432896|Mon Jun 30 18:49:19 +0000 2014|Leprosy, Still Claiming Victims http://nyti.ms/1nZIuG9\\n483657174275874817|Mon Jun 30 17:03:50 +0000 2014|Justices Rule in Favor of Hobby Lobby http://nyti.ms/VAgtgX\\n483652347860885504|Mon Jun 30 16:44:40 +0000 2014|Supreme Court Declines Case Contesting Ban on Gay ‘Conversion Therapy’ http://nyti.ms/1iNwGd1\\n483651450342735872|Mon Jun 30 16:41:06 +0000 2014|RT @UpshotNYT: Evidence-based medicine, or why hardly anyone has tonsils removed these days: http://nyti.ms/1sRDCdc\\n483651253374033921|Mon Jun 30 16:40:19 +0000 2014|RT @jessbidgood: I spent 3 days outside Boston’s @PPact clinic to look at how SCOTUS\\' buffer-zone ruling is felt there: http://t.co/wyNjQuP…\\n483650611528093697|Mon Jun 30 16:37:46 +0000 2014|RT @celiadugger: Scientists: morning after pills don\\'t cause abortions in way abortion opponents contend in Hobby Lobby case. http://t.co/k…\\n483650393164222465|Mon Jun 30 16:36:54 +0000 2014|The New Old Age Blog: Elderly Patients Often Overtreated for Diabetes, Study Suggests http://nyti.ms/VAcS2c\\n483650390668230656|Mon Jun 30 16:36:53 +0000 2014|Recipes for Health: Orecchiette With Fresh and Dried Beans and Tomatoes http://nyti.ms/1nZe0Ek\\n483646143776456705|Mon Jun 30 16:20:01 +0000 2014|Several doctors said “this view did not reflect the way the birth control methods actually work.” From this piece: http://nyti.ms/xnIqKL\\n483645610885931008|Mon Jun 30 16:17:53 +0000 2014|The companies objected to some of the contraceptive methods, saying they are tantamount to abortion.\\n483645357025669120|Mon Jun 30 16:16:53 +0000 2014|Updates on the 5-to-4 Hobby Lobby decision. http://nyti.ms/1iNqsJY\\n483645132928221184|Mon Jun 30 16:16:00 +0000 2014|Supreme Court ruled that requiring family-owned corporations to pay for insurance for contraception violated religious freedom law.\\n483644313973587969|Mon Jun 30 16:12:44 +0000 2014|Worth revisiting. @PamBelluck @eckholm’s piece on religious groups’ beliefs that contraceptives are form of abortion http://nyti.ms/xnIqKL\\n483629544063389696|Mon Jun 30 15:14:03 +0000 2014|Well: How Music May Make Babies Team Players http://nyti.ms/1lshGf2\\n483625740777168899|Mon Jun 30 14:58:56 +0000 2014|Supreme Court Rules in Contraceptive Case http://nyti.ms/1lseH6h\\n483625738357071872|Mon Jun 30 14:58:56 +0000 2014|The New Health Care: What the Reduction in Tonsillectomies Teaches Us About Medicine http://nyti.ms/1m2xmd9\\n483624988629811200|Mon Jun 30 14:55:57 +0000 2014|RT @WilliamJBroad: Why Teenagers Act Crazy http://nyti.ms/1qmj9Ls\\n483624693501816832|Mon Jun 30 14:54:46 +0000 2014|RT @jswatz: Facebook tinkering with our feeds to emotional contagion. Should I feel Hawthorne effect or Stockholm Syndrome? http://t.co/xOp…\\n483624639047172096|Mon Jun 30 14:54:33 +0000 2014|RT @cslnyt: Devastating errors after military care, a NYT investigation shows  http://nyti.ms/1wVzVBP\\n483624560743706624|Mon Jun 30 14:54:15 +0000 2014|RT @David_Dobbs: Pistorius Was Not Mentally Ill at Time of Shooting, Psychiatrists Report, via @nytimes http://nyti.ms/1m1hWpq\\n483465680792989697|Mon Jun 30 04:22:55 +0000 2014|Well: Keeping Your Cool http://nyti.ms/1ogUkxo\\n483461727108235264|Mon Jun 30 04:07:12 +0000 2014|World Cup 2014: With Júlio César’s Help, More Respect for Brazilians in Net http://nyti.ms/1ogST1W\\n483457847091789824|Mon Jun 30 03:51:47 +0000 2014|Facebook Tinkers With Users’ Emotions in News Feed Experiment, Stirring Outcry http://nyti.ms/1z0Z2VJ\\n483453606751125504|Mon Jun 30 03:34:56 +0000 2014|Medical Boards Draft Plan to Ease Path to Out-of-State and Online Treatment http://nyti.ms/1ogQy7e\\n483453605899673600|Mon Jun 30 03:34:56 +0000 2014|Flawed Saudi Response Fueled Outbreak of MERS, Middle East Virus http://nyti.ms/1z0XRFU\\n483061694596677632|Sun Jun 29 01:37:37 +0000 2014|Cuomo Plan Seeks to End New York’s AIDS Epidemic http://nyti.ms/1msG0O4\\n482887982362669056|Sat Jun 28 14:07:21 +0000 2014|Technophoria: When a Health Plan Knows How You Shop http://nyti.ms/1wV0AhZ\\n482735346208501760|Sat Jun 28 04:00:49 +0000 2014|On Religion: For Women Who Saw Combat, a Place to Find Inner Peace http://nyti.ms/1lyUccW\\n482726408004067328|Sat Jun 28 03:25:18 +0000 2014|Afrezza, a New Inhaled Insulin, Is Approved by the F.D.A. http://nyti.ms/1lyNLqf\\n482726406934511617|Sat Jun 28 03:25:18 +0000 2014|Report Finds Health Unit of V.A. Needs Overhaul http://nyti.ms/1lyNLq9'"
      ]
     },
     "metadata": {},
     "execution_count": 98
    }
   ],
   "source": [
    "# Here's another example from the New York Times which covers health tweets on news items. This data came from\n",
    "# the UC Irvine Machine Learning Repository which is a great source of different kinds of data\n",
    "with open(\"nytimeshealth.txt\", \"r\") as file:\n",
    "    # We'll read everything into a variable and take a look at it\n",
    "    health = file.read()\n",
    "health"
   ]
  },
  {
   "cell_type": "code",
   "execution_count": 99,
   "metadata": {},
   "outputs": [
    {
     "output_type": "execute_result",
     "data": {
      "text/plain": [
       "['#askwell',\n",
       " '#pregnancy',\n",
       " '#Colorado',\n",
       " '#VegetarianThanksgiving',\n",
       " '#FallPrevention',\n",
       " '#Ebola',\n",
       " '#Ebola',\n",
       " '#ebola',\n",
       " '#Ebola',\n",
       " '#Ebola',\n",
       " '#EbolaHysteria',\n",
       " '#AskNYT',\n",
       " '#Ebola',\n",
       " '#Ebola',\n",
       " '#Liberia',\n",
       " '#Excalibur',\n",
       " '#ebola',\n",
       " '#Ebola',\n",
       " '#dallas',\n",
       " '#nobelprize2014',\n",
       " '#ebola',\n",
       " '#ebola',\n",
       " '#monrovia',\n",
       " '#ebola',\n",
       " '#nobelprize2014',\n",
       " '#ebola',\n",
       " '#nobelprize2014',\n",
       " '#Medicine',\n",
       " '#Ebola',\n",
       " '#Monrovia',\n",
       " '#Ebola',\n",
       " '#smell',\n",
       " '#Ebola',\n",
       " '#Ebola',\n",
       " '#Ebola',\n",
       " '#Monrovia',\n",
       " '#Ebola',\n",
       " '#ebola',\n",
       " '#monrovia',\n",
       " '#liberia',\n",
       " '#benzos',\n",
       " '#ClimateChange',\n",
       " '#Whole',\n",
       " '#Wheat',\n",
       " '#Focaccia',\n",
       " '#Tomatoes',\n",
       " '#Olives',\n",
       " '#Recipes',\n",
       " '#Health',\n",
       " '#Ebola',\n",
       " '#Monrovia',\n",
       " '#Liberia',\n",
       " '#Ebola',\n",
       " '#Ebola',\n",
       " '#Liberia',\n",
       " '#Ebola',\n",
       " '#blood',\n",
       " '#Ebola',\n",
       " '#organtrafficking',\n",
       " '#EbolaOutbreak',\n",
       " '#SierraLeone',\n",
       " '#Freetown',\n",
       " '#SierraLeone',\n",
       " '#ebolaoutbreak',\n",
       " '#kenema',\n",
       " '#ebola',\n",
       " '#Ebola',\n",
       " '#ebola',\n",
       " '#ebola',\n",
       " '#Ebola',\n",
       " '#ASMR',\n",
       " '#AIDS2014',\n",
       " '#AIDS',\n",
       " '#MH17',\n",
       " '#benzos']"
      ]
     },
     "metadata": {},
     "execution_count": 99
    }
   ],
   "source": [
    "# So here we can see there are tweets with fields separated by pipes |. Lets try and get a list of all of the\n",
    "# hashtags that are included in this data. A hashtag begins with a pound sign (or hash mark) and continues\n",
    "# until some whitespace is found\n",
    "\n",
    "# So lets create a pattern. We want to include the hash sign first, then any number of alphanumeric\n",
    "# characters. And we end when we see some whitespace\n",
    "pattern = '#[\\w\\d]*(?=\\s)'\n",
    "\n",
    "# Notice that the ending is a look ahead. We're not actually interested in matching whitespace in the return\n",
    "# value. Also notice that I use an asterix * instead of the plus + for the matching of alphabetical characters\n",
    "# or digits, because a + would require at least one of each\n",
    "\n",
    "# Lets search and display all of the hashtags\n",
    "re.findall(pattern, health)"
   ]
  },
  {
   "cell_type": "code",
   "execution_count": 100,
   "metadata": {},
   "outputs": [],
   "source": [
    "# We can see here that there were lots of ebola related tweeks in this particular dataset."
   ]
  },
  {
   "source": [
    "This lecture has been an overview of regular expressions, and really, we've just scratched the surface of what \n",
    "you can do. Now, I actually find regex's really frustrating - they're incredibly powerful, but if you don't\n",
    "use them for awhile you're left grasping for memory of some of the details, especially named groups and look\n",
    "ahead searches. But, there are lots of great examples and reference guides on the web, including the python\n",
    "documentation for regex, and with these in hand you should be able to write concise and readable code which\n",
    "performs well too. Having basic regex literacy is a core skill for applied data scientists. "
   ],
   "cell_type": "markdown",
   "metadata": {}
  },
  {
   "cell_type": "code",
   "execution_count": null,
   "metadata": {},
   "outputs": [],
   "source": []
  }
 ]
}